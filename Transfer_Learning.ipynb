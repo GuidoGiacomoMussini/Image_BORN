{
  "nbformat": 4,
  "nbformat_minor": 0,
  "metadata": {
    "colab": {
      "provenance": [],
      "gpuType": "V100",
      "machine_shape": "hm",
      "authorship_tag": "ABX9TyNKpMNxak8Hv3xV7r+pksvV",
      "include_colab_link": true
    },
    "kernelspec": {
      "name": "python3",
      "display_name": "Python 3"
    },
    "language_info": {
      "name": "python"
    },
    "accelerator": "GPU"
  },
  "cells": [
    {
      "cell_type": "markdown",
      "metadata": {
        "id": "view-in-github",
        "colab_type": "text"
      },
      "source": [
        "<a href=\"https://colab.research.google.com/github/GuidoGiacomoMussini/Image_BORN/blob/main/Transfer_Learning.ipynb\" target=\"_parent\"><img src=\"https://colab.research.google.com/assets/colab-badge.svg\" alt=\"Open In Colab\"/></a>"
      ]
    },
    {
      "cell_type": "markdown",
      "source": [
        "#born"
      ],
      "metadata": {
        "id": "Q8WthtKi6-lH"
      }
    },
    {
      "cell_type": "code",
      "execution_count": null,
      "metadata": {
        "id": "nEiBAzkG-kmq"
      },
      "outputs": [],
      "source": [
        "import scipy.sparse\n",
        "import numpy\n",
        "from sklearn.base import BaseEstimator, ClassifierMixin\n",
        "from sklearn.utils.validation import _check_sample_weight\n",
        "from sklearn.utils.multiclass import unique_labels\n",
        "from sklearn.exceptions import NotFittedError\n",
        "\n",
        "class BornClassifier(ClassifierMixin, BaseEstimator):\n",
        "    \"\"\"Scikit-learn implementation of Born's Classifier\n",
        "\n",
        "    This class is compatible with the [scikit-learn](https://scikit-learn.org) ecosystem.\n",
        "    It supports both dense and sparse input and GPU-accelerated computing via [CuPy](https://cupy.dev).\n",
        "    This classifier is suitable for classification with non-negative feature vectors.\n",
        "    The data `X` are treated as unnormalized probability distributions.\n",
        "\n",
        "    Parameters\n",
        "    ----------\n",
        "    a : float\n",
        "        Amplitude. Must be strictly positive.\n",
        "    b : float\n",
        "        Balance. Must be non-negative.\n",
        "    h : float\n",
        "        Entropy. Must be non-negative.\n",
        "\n",
        "    Attributes\n",
        "    ----------\n",
        "    gpu_ : bool\n",
        "        Whether the model was fitted on GPU.\n",
        "    corpus_ : array-like of shape (n_features_in_, n_classes)\n",
        "        Fitted corpus.\n",
        "    classes_ : ndarray of shape (n_classes,)\n",
        "        Unique classes labels.\n",
        "    n_features_in_ : int\n",
        "        Number of features seen during `fit`.\n",
        "\n",
        "    \"\"\"\n",
        "\n",
        "    def __init__(self, a=0.5, b=1., h=1.):\n",
        "        self.a = a\n",
        "        self.b = b\n",
        "        self.h = h\n",
        "\n",
        "    def fit(self, X, y, sample_weight=None):\n",
        "        \"\"\"Fit the classifier according to the training data X, y.\n",
        "\n",
        "        Parameters\n",
        "        ----------\n",
        "        X : array-like of shape (n_samples, n_features)\n",
        "            Training data, where `n_samples` is the number of samples\n",
        "            and `n_features` is the number of features.\n",
        "        y : array-like of shape (n_samples,) or (n_samples, n_classes)\n",
        "            Target values. If 2d array, this is the probability\n",
        "            distribution over the `n_classes` for each of the `n_samples`.\n",
        "        sample_weight : array-like of shape (n_samples,)\n",
        "            Array of weights that are assigned to individual samples.\n",
        "            If not provided, then each sample is given unit weight.\n",
        "\n",
        "        Returns\n",
        "        -------\n",
        "        self : object\n",
        "            Returns the instance itself.\n",
        "\n",
        "        \"\"\"\n",
        "        attrs = [\n",
        "            \"gpu_\",\n",
        "            \"corpus_\",\n",
        "            \"classes_\",\n",
        "            \"n_features_in_\"\n",
        "        ]\n",
        "\n",
        "        for attr in attrs:\n",
        "            if hasattr(self, attr):\n",
        "                delattr(self, attr)\n",
        "\n",
        "        return self.partial_fit(X, y, classes=y, sample_weight=sample_weight)\n",
        "\n",
        "    def partial_fit(self, X, y, classes=None, sample_weight=None):\n",
        "        \"\"\"Incremental fit on a batch of samples.\n",
        "\n",
        "        This method is expected to be called several times consecutively on different chunks of a dataset so\n",
        "        as to implement out-of-core or online learning.\n",
        "\n",
        "        Parameters\n",
        "        ----------\n",
        "        X : array-like of shape (n_samples, n_features)\n",
        "            Training data, where `n_samples` is the number of samples\n",
        "            and `n_features` is the number of features.\n",
        "        y : array-like of shape (n_samples,) or (n_samples, n_classes)\n",
        "            Target values. If 2d array, this is the probability\n",
        "            distribution over the `n_classes` for each of the `n_samples`.\n",
        "        classes : array-like of shape (n_classes,)\n",
        "            List of all the classes that can possibly appear in the `y` vector.\n",
        "            Must be provided at the first call to `partial_fit`, can be omitted in subsequent calls.\n",
        "        sample_weight : array-like of shape (n_samples,)\n",
        "            Array of weights that are assigned to individual samples.\n",
        "            If not provided, then each sample is given unit weight.\n",
        "\n",
        "        Returns\n",
        "        -------\n",
        "        self : object\n",
        "            Returns the instance itself.\n",
        "\n",
        "        \"\"\"\n",
        "        X, y = self._sanitize(X, y)\n",
        "\n",
        "        first_call = self._check_partial_fit_first_call(classes)\n",
        "        if first_call:\n",
        "            self.corpus_ = 0\n",
        "            self.n_features_in_ = X.shape[1]\n",
        "\n",
        "        if not self._check_encoded(y):\n",
        "            y = self._one_hot_encoding(y)\n",
        "\n",
        "        if sample_weight is not None:\n",
        "            sample_weight = self._check_sample_weight(sample_weight, X)\n",
        "            y = self._multiply(y, sample_weight.reshape(-1, 1))\n",
        "\n",
        "        self.corpus_ += X.T @ self._multiply(y, self._power(self._sum(X, axis=1), -1))\n",
        "\n",
        "        return self\n",
        "\n",
        "    def predict(self, X):\n",
        "        \"\"\"Perform classification on the test data X.\n",
        "\n",
        "        Parameters\n",
        "        ----------\n",
        "        X : array-like of shape (n_samples, n_features)\n",
        "            Test data, where `n_samples` is the number of samples\n",
        "            and `n_features` is the number of features.\n",
        "\n",
        "        Returns\n",
        "        -------\n",
        "        y : ndarray of shape (n_samples,)\n",
        "            Predicted target classes for `X`.\n",
        "\n",
        "        \"\"\"\n",
        "        proba = self.predict_proba(X)\n",
        "        idx = self._dense().argmax(proba, axis=1)\n",
        "\n",
        "        return self.classes_[idx]\n",
        "\n",
        "    def predict_proba(self, X):\n",
        "        \"\"\"Return probability estimates for the test data X.\n",
        "\n",
        "        Parameters\n",
        "        ----------\n",
        "        X : array-like of shape (n_samples, n_features)\n",
        "            Test data, where `n_samples` is the number of samples\n",
        "            and `n_features` is the number of features.\n",
        "\n",
        "        Returns\n",
        "        -------\n",
        "        y : ndarray of shape (n_samples, n_classes)\n",
        "            Returns the probability of the samples for each class in the model.\n",
        "            The columns correspond to the classes in sorted order, as they appear in the attribute `classes_`.\n",
        "\n",
        "        \"\"\"\n",
        "        self._check_fitted()\n",
        "\n",
        "        X = self._sanitize(X)\n",
        "        u = self._power(self._power(X, self.a) @ self._weights(), 1. / self.a)\n",
        "        y = self._normalize(u, axis=1)\n",
        "\n",
        "        if self._sparse().issparse(y):\n",
        "            y = y.todense()\n",
        "\n",
        "        return self._dense().asarray(y)\n",
        "\n",
        "    def explain(self, X=None, sample_weight=None):\n",
        "        r\"\"\"Global and local explanation\n",
        "\n",
        "        For each test vector $`x`$, the $`a`$-th power of the unnormalized probability for the $`k`$-th class is\n",
        "        given by the matrix product:\n",
        "\n",
        "        ```math\n",
        "        u_k^a = \\sum_j W_{jk}x_j^a\n",
        "        ```\n",
        "        where $`W`$ is a matrix of non-negative weights that generally depends on the model's\n",
        "        hyper-parameters ($`a`$, $`b`$, $`h`$). The classification probabilities are obtained by\n",
        "        normalizing $`u`$ such that it sums up to $`1`$.\n",
        "\n",
        "        This method returns global or local feature importance weights, depending on `X`:\n",
        "\n",
        "        - When `X` is not provided, this method returns the global weights $`W`$.\n",
        "\n",
        "        - When `X` is a single sample,\n",
        "        this method returns a matrix of entries $`(j,k)`$ where each entry is given by $`W_{jk}x_j^a`$.\n",
        "\n",
        "        - When `X` contains multiple samples,\n",
        "        then the values above are computed for each sample and this method returns their weighted sum.\n",
        "        By default, each sample is given unit weight.\n",
        "\n",
        "        Parameters\n",
        "        ----------\n",
        "        X : array-like of shape (n_samples, n_features)\n",
        "            Test data, where `n_samples` is the number of samples\n",
        "            and `n_features` is the number of features. If not provided,\n",
        "            then global weights are returned.\n",
        "        sample_weight : array-like of shape (n_samples,)\n",
        "            Array of weights that are assigned to individual samples.\n",
        "            If not provided, then each sample is given unit weight.\n",
        "\n",
        "        Returns\n",
        "        -------\n",
        "        E : array-like of shape (n_features, n_classes)\n",
        "            Returns the feature importance for each class in the model.\n",
        "            The columns correspond to the classes in sorted order, as they appear in the attribute `classes_`.\n",
        "\n",
        "        \"\"\"\n",
        "        self._check_fitted()\n",
        "\n",
        "        if X is None:\n",
        "            return self._weights()\n",
        "\n",
        "        X = self._sanitize(X)\n",
        "        X = self._normalize(X, axis=1)\n",
        "        X = self._power(X, self.a)\n",
        "\n",
        "        if sample_weight is not None:\n",
        "            sample_weight = self._check_sample_weight(sample_weight, X)\n",
        "            X = self._multiply(X, sample_weight.reshape(-1, 1))\n",
        "\n",
        "        return self._multiply(self._weights(), self._sum(X, axis=0).T)\n",
        "\n",
        "    def _dense(self):\n",
        "        return  numpy\n",
        "\n",
        "    def _sparse(self):\n",
        "        return scipy.sparse\n",
        "\n",
        "    def _weights(self):\n",
        "        P_jk = self.corpus_\n",
        "        if self.b != 0:\n",
        "            P_jk = self._multiply(P_jk, self._power(self._sum(self.corpus_, axis=0), -self.b))\n",
        "        if self.b != 1:\n",
        "            P_jk = self._multiply(P_jk, self._power(self._sum(self.corpus_, axis=1), self.b-1))\n",
        "\n",
        "        W_jk = self._power(P_jk, self.a)\n",
        "        if self.h != 0 and len(self.classes_) > 1:\n",
        "            P_jk = self._normalize(P_jk, axis=1)\n",
        "            H_j = 1 + self._sum(self._multiply(P_jk, self._log(P_jk)), axis=1) / self._dense().log(P_jk.shape[1])\n",
        "            W_jk = self._multiply(W_jk, self._power(H_j, self.h))\n",
        "\n",
        "        return W_jk\n",
        "\n",
        "    def _sum(self, x, axis):\n",
        "        if self._sparse().issparse(x):\n",
        "            return x.sum(axis=axis)\n",
        "\n",
        "        return self._dense().asarray(x).sum(axis=axis, keepdims=True)\n",
        "\n",
        "    def _multiply(self, x, y):\n",
        "        if self._sparse().issparse(x):\n",
        "            return x.multiply(y).tocsr()\n",
        "\n",
        "        if self._sparse().issparse(y):\n",
        "            return y.multiply(x).tocsr()\n",
        "\n",
        "        return self._dense().multiply(x, y)\n",
        "\n",
        "    def _power(self, x, p):\n",
        "        x = x.copy()\n",
        "\n",
        "        if self._sparse().issparse(x):\n",
        "            x.data = self._dense().power(x.data, p)\n",
        "\n",
        "        else:\n",
        "            nz = self._dense().nonzero(x)\n",
        "            x[nz] = self._dense().power(x[nz], p)\n",
        "\n",
        "        return x\n",
        "\n",
        "    def _log(self, x):\n",
        "        x = x.copy()\n",
        "\n",
        "        if self._sparse().issparse(x):\n",
        "            x.data = self._dense().log(x.data)\n",
        "\n",
        "        else:\n",
        "            nz = self._dense().nonzero(x)\n",
        "            x[nz] = self._dense().log(x[nz])\n",
        "\n",
        "        return x\n",
        "\n",
        "    def _normalize(self, x, axis, p=1.):\n",
        "        s = self._sum(x, axis)\n",
        "        n = self._power(s, -p)\n",
        "\n",
        "        return self._multiply(x, n)\n",
        "\n",
        "    def _sanitize(self, X, y=\"no_validation\"):\n",
        "        only_X = isinstance(y, str) and y == \"no_validation\"\n",
        "\n",
        "        gpu = self._check_gpu(X=X, y=y if not only_X else None)\n",
        "        if getattr(self, \"gpu_\", None) is None:\n",
        "            self.gpu_ = gpu\n",
        "\n",
        "        elif self.gpu_ != gpu:\n",
        "            raise ValueError(\n",
        "                \"X is not on the same device (CPU/GPU) as on last call \"\n",
        "                \"to partial_fit, was: %r\" % (self.gpu_, ))\n",
        "\n",
        "        if not self.gpu_:\n",
        "            kwargs = {\n",
        "                \"accept_sparse\": \"csr\",\n",
        "                \"reset\": False,\n",
        "                \"dtype\": (numpy.float32, numpy.float64)\n",
        "            }\n",
        "\n",
        "            if only_X:\n",
        "                X = super()._validate_data(X=X, **kwargs)\n",
        "\n",
        "            else:\n",
        "                X, y = super()._validate_data(X=X, y=y, multi_output=self._check_encoded(y), **kwargs)\n",
        "\n",
        "            if not self._check_non_negative(X):\n",
        "                raise ValueError(\"X must contain non-negative values\")\n",
        "\n",
        "        return X if only_X else (X, y)\n",
        "\n",
        "    def _unique_labels(self, y):\n",
        "        if self._check_encoded(y):\n",
        "            return self._dense().arange(0, y.shape[1])\n",
        "\n",
        "        elif self.gpu_:\n",
        "            return self._dense().unique(y)\n",
        "\n",
        "        else:\n",
        "            return unique_labels(y)\n",
        "\n",
        "    def _one_hot_encoding(self, y):\n",
        "        classes = self.classes_\n",
        "        n, m = len(y), len(classes)\n",
        "\n",
        "        if self.gpu_:\n",
        "            y = y.get()\n",
        "            classes = classes.get()\n",
        "\n",
        "        unseen = set(y) - set(classes)\n",
        "        if unseen:\n",
        "            raise ValueError(\n",
        "                \"`classes=%r` were not allowed on first call \"\n",
        "                \"to partial_fit\" % (unseen, ))\n",
        "\n",
        "        idx = {c: i for i, c in enumerate(classes)}\n",
        "        col = self._dense().array([idx[c] for c in y])\n",
        "        row = self._dense().array(range(0, n))\n",
        "        val = self._dense().ones(n)\n",
        "\n",
        "        return self._sparse().csr_matrix((val, (row, col)), shape=(n, m))\n",
        "\n",
        "    def _check_encoded(self, y):\n",
        "        return self._sparse().issparse(y) or (getattr(y, \"ndim\", 0) == 2 and y.shape[1] > 1)\n",
        "\n",
        "    def _check_non_negative(self, X):\n",
        "        if self._sparse().issparse(X):\n",
        "            if self._dense().any(X.data < 0):\n",
        "                return False\n",
        "\n",
        "        elif self._dense().any(X < 0):\n",
        "            return False\n",
        "\n",
        "        return True\n",
        "\n",
        "    def _check_sample_weight(self, sample_weight, X):\n",
        "        if self.gpu_:\n",
        "            return sample_weight\n",
        "\n",
        "        return _check_sample_weight(sample_weight=sample_weight, X=X)\n",
        "\n",
        "    def _check_partial_fit_first_call(self, classes):\n",
        "        if getattr(self, \"classes_\", None) is None and classes is None:\n",
        "            raise ValueError(\"classes must be passed on the first call to partial_fit\")\n",
        "\n",
        "        elif classes is not None:\n",
        "            classes = self._unique_labels(classes)\n",
        "\n",
        "            if getattr(self, \"classes_\", None) is not None:\n",
        "                if not self._dense().array_equal(self.classes_, classes):\n",
        "                    raise ValueError(\n",
        "                        \"`classes=%r` is not the same as on last call \"\n",
        "                        \"to partial_fit, was: %r\" % (classes, self.classes_))\n",
        "\n",
        "            else:\n",
        "                self.classes_ = classes\n",
        "                return True\n",
        "\n",
        "        return False\n",
        "\n",
        "    def _check_gpu(self, X, y=None):\n",
        "        return False\n",
        "\n",
        "    def _check_fitted(self):\n",
        "        if getattr(self, \"corpus_\", None) is None:\n",
        "            raise NotFittedError(\n",
        "                f\"This {self.__class__.__name__} instance is not fitted yet. \"\n",
        "                \"Call 'fit' with appropriate arguments before using this estimator\")\n",
        "\n",
        "    def _more_tags(self):\n",
        "        return {\n",
        "            'requires_y': True,\n",
        "            'requires_positive_X': True,\n",
        "            'X_types': ['2darray', 'sparse'],\n",
        "            '_xfail_checks': {\n",
        "                'check_classifiers_classes':\n",
        "                    'This is a pathological data set for BornClassifier. '\n",
        "                    'For some specific cases, it predicts less classes than expected',\n",
        "                'check_classifiers_train':\n",
        "                    'Test fails because of negative values in X'\n",
        "            }\n",
        "        }"
      ]
    },
    {
      "cell_type": "markdown",
      "source": [
        "# Functions"
      ],
      "metadata": {
        "id": "jSPlbP26oKDM"
      }
    },
    {
      "cell_type": "code",
      "source": [
        "def build_vocab(features_train, k):\n",
        "\n",
        "  features_reshaped = features_train.reshape(-1, features_train.shape[-1])\n",
        "\n",
        "  minibatch_kmeans = MiniBatchKMeans(n_clusters=k, random_state=0, batch_size=100, n_init = 3)\n",
        "  minibatch_kmeans.fit(features_reshaped)\n",
        "\n",
        "  visual_vocab = minibatch_kmeans.cluster_centers_\n",
        "\n",
        "  return visual_vocab\n",
        "\n",
        "def build_histogram(x_train, features_train, k, visual_vocab):\n",
        "  histograms = np.zeros((len(x_train), k))  # Inizializza gli istogrammi\n",
        "\n",
        "  # Costruisci l'istogramma per ogni immagine\n",
        "  for i in range(len(x_train)):\n",
        "      distances = cdist(features_train[i].reshape(-1, features_train.shape[-1]), visual_vocab)\n",
        "      closest_clusters = np.argmin(distances, axis=1)\n",
        "      for cluster_idx in closest_clusters:\n",
        "          histograms[i][cluster_idx] += 1\n",
        "\n",
        "  return histograms"
      ],
      "metadata": {
        "id": "JGcPvcYcoIfb"
      },
      "execution_count": null,
      "outputs": []
    },
    {
      "cell_type": "code",
      "source": [
        "def try_models(x_train, x_test, features_train, features_test, k_list):\n",
        "  accuracies, cf = [], {}\n",
        "\n",
        "  for k in k_list:\n",
        "    #build vocabulary\n",
        "    visual_vocab = build_vocab(features_train, k)\n",
        "    #define the histograms\n",
        "    train_histograms = build_histogram(x_train, features_train, k, visual_vocab)\n",
        "    test_histograms = build_histogram(x_test, features_test, k, visual_vocab)\n",
        "    #train\n",
        "    classifier = BornClassifier()\n",
        "    classifier.fit(train_histograms, y_train)\n",
        "    #test\n",
        "    preds = classifier.predict(test_histograms)\n",
        "\n",
        "    accuracies.append((k, sklearn.metrics.accuracy_score(y_true, preds)))\n",
        "    cf[k] = confusion_matrix(y_true, preds)\n",
        "\n",
        "  return accuracies, cf"
      ],
      "metadata": {
        "id": "u2sq_Ru4oO8r"
      },
      "execution_count": null,
      "outputs": []
    },
    {
      "cell_type": "markdown",
      "source": [
        "#data"
      ],
      "metadata": {
        "id": "jTDzGL-77FX0"
      }
    },
    {
      "cell_type": "code",
      "execution_count": null,
      "metadata": {
        "id": "c0ZVufCm2FrP"
      },
      "outputs": [],
      "source": [
        "from keras.datasets import cifar10\n",
        "import pandas as pd\n",
        "import matplotlib.pyplot as plt\n",
        "import numpy as np\n",
        "from keras.utils import to_categorical\n",
        "import seaborn as sns\n",
        "from tqdm.notebook import tqdm as progress_bar\n",
        "import sklearn\n",
        "from sklearn.cluster import MiniBatchKMeans\n",
        "from scipy.spatial.distance import cdist\n",
        "from sklearn.metrics import confusion_matrix\n",
        "from sklearn.model_selection import train_test_split\n",
        "from google.colab import drive\n",
        "drive.mount('/content/drive')\n",
        "\n",
        "# CIFAR-10\n",
        "(x_train, y_train), (x_test, y_test) = cifar10.load_data()\n",
        "\n",
        "#normalize\n",
        "x_train= x_train.astype('float32') / 255.0\n",
        "x_test= x_test.astype('float32') / 255.0\n",
        "\n",
        "#one hot\n",
        "y_comp = y_train  #per comparazione\n",
        "y_train = to_categorical(y_train)\n",
        "\n",
        "#array -> list\n",
        "y_comp = [y[0] for y in y_comp.tolist()]\n",
        "y_true = [y[0] for y in y_test.tolist()]"
      ]
    },
    {
      "cell_type": "code",
      "source": [
        "#ISIC BINARY\n",
        "# path = '/content/drive/MyDrive/Colab Notebooks/Tesi/MEDICAL IMAGING/'\n",
        "# isic_m = 'Skin_Cancer_64.h5'\n",
        "# isic_b = 'Skin_Cancer_binary_64.h5'\n",
        "\n",
        "# df_isic_b = pd.read_hdf(path+isic_b, 'df')\n",
        "# df_isic_b.name = 'isic_binary'\n",
        "\n",
        "# df = df_isic_b\n",
        "\n",
        "# #trasformo ISIC in formato coerente:\n",
        "# df['image'] = df['image'].apply(lambda img: img.astype('float32') / 255.0)\n",
        "# df['label'] = to_categorical(df['label'])\n",
        "# x = np.array(df['image'].tolist())\n",
        "# y = np.array(df['label'].tolist())\n",
        "# x_train, x_test, y_train, y_test = train_test_split(x, y, test_size=0.2, random_state=42)\n",
        "# y_true = [np.argmax(y) for y in y_test]"
      ],
      "metadata": {
        "id": "mdHE_KTIbgFm"
      },
      "execution_count": null,
      "outputs": []
    },
    {
      "cell_type": "code",
      "source": [
        "dim = x_train.shape[1]"
      ],
      "metadata": {
        "id": "lnDdnLMuckfT"
      },
      "execution_count": null,
      "outputs": []
    },
    {
      "cell_type": "markdown",
      "source": [
        "# pretrained models"
      ],
      "metadata": {
        "id": "sWzDKBFi7I0l"
      }
    },
    {
      "cell_type": "code",
      "source": [
        "from keras.applications.vgg16 import VGG16\n",
        "from keras.applications.vgg16 import VGG16\n",
        "from keras.applications.resnet50 import ResNet50\n",
        "from keras.applications.inception_v3 import InceptionV3\n",
        "from keras.applications.xception import Xception\n",
        "from keras.applications.mobilenet import MobileNet\n",
        "from keras.applications.densenet import DenseNet121\n",
        "from keras.applications.efficientnet import EfficientNetB0\n",
        "\n",
        "vgg16_model = VGG16(weights='imagenet', include_top=False, input_shape=(dim, dim, 3))\n",
        "\n",
        "resnet50_model = ResNet50(weights='imagenet', include_top=False, input_shape=(dim, dim, 3))\n",
        "\n",
        "mobilenet_model = MobileNet(weights='imagenet', include_top=False, input_shape=(dim, dim, 3))\n",
        "\n",
        "densenet121_model = DenseNet121(weights='imagenet', include_top=False, input_shape=(dim, dim, 3))\n",
        "\n",
        "efficientnetb0_model = EfficientNetB0(weights='imagenet', include_top=False, input_shape=(dim, dim, 3))\n",
        "\n",
        "models = [vgg16_model, resnet50_model, mobilenet_model, densenet121_model, efficientnetb0_model]"
      ],
      "metadata": {
        "id": "687PQg6N241T"
      },
      "execution_count": null,
      "outputs": []
    },
    {
      "cell_type": "markdown",
      "source": [
        "# Compare models and vocab size"
      ],
      "metadata": {
        "id": "hkWTiCM6s01z"
      }
    },
    {
      "cell_type": "code",
      "source": [
        "model_acc, conf_m = [], []\n",
        "k_list = [10, 50, 100, 500, 1000]\n",
        "for model in progress_bar(models):\n",
        "  features_train = model.predict(x_train)\n",
        "  features_test = model.predict(x_test)\n",
        "  accuracies, cf= try_models(x_train, x_test, features_train, features_test, k_list)\n",
        "  model_acc.append((model.name, accuracies))\n",
        "  conf_m.append((model.name, cf))"
      ],
      "metadata": {
        "id": "tBqWGk_F-CBC"
      },
      "execution_count": null,
      "outputs": []
    },
    {
      "cell_type": "code",
      "source": [
        "model_acc"
      ],
      "metadata": {
        "id": "yzeW9uskcgCn"
      },
      "execution_count": null,
      "outputs": []
    },
    {
      "cell_type": "code",
      "source": [
        "conf_m"
      ],
      "metadata": {
        "id": "G12t2RVaL_Br"
      },
      "execution_count": null,
      "outputs": []
    },
    {
      "cell_type": "code",
      "source": [
        "sns.heatmap(conf_m[3][1][1000], annot=True, fmt=\".0f\")"
      ],
      "metadata": {
        "id": "70N4n9fnL-Dh"
      },
      "execution_count": null,
      "outputs": []
    },
    {
      "cell_type": "markdown",
      "source": [
        "# Compare BORN with other classifiers"
      ],
      "metadata": {
        "id": "LMbAe35Mq02w"
      }
    },
    {
      "cell_type": "code",
      "source": [
        "from sklearn.ensemble import RandomForestClassifier\n",
        "from sklearn.linear_model import LogisticRegression\n",
        "from sklearn.naive_bayes import MultinomialNB\n",
        "from sklearn.neighbors import KNeighborsClassifier\n",
        "from sklearn.svm import SVC\n",
        "from sklearn.tree import DecisionTreeClassifier\n",
        "\n",
        "classifiers = {\n",
        "    \"RandomForest\": RandomForestClassifier(),\n",
        "    \"LogisticRegression\": LogisticRegression(),\n",
        "    \"MultinomialNB\": MultinomialNB(),\n",
        "    \"KNeighbors\": KNeighborsClassifier(),\n",
        "    \"SVC\": SVC(),\n",
        "    \"DecisionTree\": DecisionTreeClassifier(),\n",
        "    \"BORN\": BornClassifier()\n",
        "}"
      ],
      "metadata": {
        "id": "GCTgpYgvkXyy"
      },
      "execution_count": null,
      "outputs": []
    },
    {
      "cell_type": "code",
      "source": [
        "result_dict = {}\n",
        "k = 100 #set K\n",
        "\n",
        "for model in progress_bar(models):\n",
        "  classifier_dict = {}\n",
        "  #extract the features\n",
        "  features_train = model.predict(x_train)\n",
        "  features_test = model.predict(x_test)\n",
        "  #vocab\n",
        "  visual_vocab = build_vocab(features_train, k)\n",
        "  #define the histograms\n",
        "  train_histograms = build_histogram(x_train, features_train, k, visual_vocab)\n",
        "  test_histograms = build_histogram(x_test, features_test, k, visual_vocab)\n",
        "  for name, classifier in classifiers.items():\n",
        "    #train\n",
        "    classifier.fit(train_histograms, y_comp)\n",
        "    #test\n",
        "    preds = classifier.predict(test_histograms)\n",
        "\n",
        "    classifier_dict[name] = sklearn.metrics.accuracy_score(y_true, preds)\n",
        "\n",
        "  result_dict[model.name] = classifier_dict"
      ],
      "metadata": {
        "id": "dPEhDNa9rfe6"
      },
      "execution_count": null,
      "outputs": []
    },
    {
      "cell_type": "code",
      "source": [
        "result_dict"
      ],
      "metadata": {
        "colab": {
          "base_uri": "https://localhost:8080/"
        },
        "id": "mxmpbg360WWX",
        "outputId": "12ab71d9-1ce4-4700-f969-2842f8d93c61"
      },
      "execution_count": null,
      "outputs": [
        {
          "output_type": "execute_result",
          "data": {
            "text/plain": [
              "{'vgg16': {'RandomForest': 0.3139,\n",
              "  'LogisticRegression': 0.3139,\n",
              "  'MultinomialNB': 0.3139,\n",
              "  'KNeighbors': 0.2327,\n",
              "  'SVC': 0.3139,\n",
              "  'DecisionTree': 0.3139,\n",
              "  'BORN': 0.3139},\n",
              " 'resnet50': {'RandomForest': 0.2517,\n",
              "  'LogisticRegression': 0.2522,\n",
              "  'MultinomialNB': 0.2517,\n",
              "  'KNeighbors': 0.1671,\n",
              "  'SVC': 0.2513,\n",
              "  'DecisionTree': 0.2517,\n",
              "  'BORN': 0.2517},\n",
              " 'mobilenet_1.00_224': {'RandomForest': 0.2034,\n",
              "  'LogisticRegression': 0.2028,\n",
              "  'MultinomialNB': 0.2027,\n",
              "  'KNeighbors': 0.1436,\n",
              "  'SVC': 0.2027,\n",
              "  'DecisionTree': 0.2027,\n",
              "  'BORN': 0.2027},\n",
              " 'densenet121': {'RandomForest': 0.3434,\n",
              "  'LogisticRegression': 0.3434,\n",
              "  'MultinomialNB': 0.3423,\n",
              "  'KNeighbors': 0.2623,\n",
              "  'SVC': 0.3423,\n",
              "  'DecisionTree': 0.3423,\n",
              "  'BORN': 0.3423},\n",
              " 'efficientnetb0': {'RandomForest': 0.2193,\n",
              "  'LogisticRegression': 0.2199,\n",
              "  'MultinomialNB': 0.22,\n",
              "  'KNeighbors': 0.1421,\n",
              "  'SVC': 0.2199,\n",
              "  'DecisionTree': 0.22,\n",
              "  'BORN': 0.22}}"
            ]
          },
          "metadata": {},
          "execution_count": 14
        }
      ]
    },
    {
      "cell_type": "code",
      "source": [
        "confusion_matrix(y_true, preds)"
      ],
      "metadata": {
        "id": "3Ff7Y6DKHpj8",
        "outputId": "b5ef4a6d-ef6e-4a98-e321-2c3bc6825716",
        "colab": {
          "base_uri": "https://localhost:8080/"
        }
      },
      "execution_count": null,
      "outputs": [
        {
          "output_type": "execute_result",
          "data": {
            "text/plain": [
              "array([[249, 135,  35,  17, 111,  17,  52, 104, 204,  76],\n",
              "       [ 68, 353,   5,  28,  46,  13,  70, 102, 138, 177],\n",
              "       [121,  97,  64,  52, 207,  29, 164, 116,  81,  69],\n",
              "       [108,  93,  30, 109, 162,  28, 145, 177,  66,  82],\n",
              "       [ 86,  85,  59,  45, 301,   9, 162, 104,  89,  60],\n",
              "       [ 88, 123,  33, 112, 113,  35, 140, 156, 101,  99],\n",
              "       [ 65, 103,  44,  56, 189,  13, 253, 119,  84,  74],\n",
              "       [ 52, 144,  12,  42, 107,  32, 124, 282,  71, 134],\n",
              "       [143, 158,  17,  30, 154,  12,  55,  40, 326,  65],\n",
              "       [ 85, 299,   7,  30,  53,  17,  63, 142,  76, 228]])"
            ]
          },
          "metadata": {},
          "execution_count": 28
        }
      ]
    },
    {
      "cell_type": "code",
      "source": [
        "#results\n",
        "df = pd.DataFrame(result_dict).T\n",
        "df = df.reset_index().melt(id_vars='index', var_name='Classifier', value_name='Accuracy')\n",
        "df.rename(columns={'index': 'Model'}, inplace=True)"
      ],
      "metadata": {
        "id": "F9wt5LTa8czP"
      },
      "execution_count": null,
      "outputs": []
    },
    {
      "cell_type": "code",
      "source": [
        "#PLOT\n",
        "plt.figure(figsize=(14, 8))\n",
        "ax = sns.barplot(x='Model', y='Accuracy', hue='Classifier', data=df)\n",
        "\n",
        "plt.title('Comparazione accuracy, K = 100')\n",
        "plt.xlabel('Dataset')\n",
        "plt.ylabel('Accuratezza')\n",
        "\n",
        "for p in ax.patches:\n",
        "    ax.annotate(format(p.get_height(), '.1f'),\n",
        "                (p.get_x() + p.get_width() / 2., p.get_height()),\n",
        "                ha = 'center', va = 'center',\n",
        "                xytext = (0, 9),\n",
        "                textcoords = 'offset points')\n",
        "\n",
        "plt.legend(bbox_to_anchor=(1.05, 1), loc=2, borderaxespad=0.)\n",
        "\n",
        "plt.show()"
      ],
      "metadata": {
        "colab": {
          "base_uri": "https://localhost:8080/",
          "height": 718
        },
        "id": "DWfUAvQtFqFJ",
        "outputId": "195d927b-d543-432a-a397-bf9a3432c495"
      },
      "execution_count": null,
      "outputs": [
        {
          "output_type": "display_data",
          "data": {
            "text/plain": [
              "<Figure size 1400x800 with 1 Axes>"
            ],
            "image/png": "[encoded data removed]"
          },
          "metadata": {}
        }
      ]
    },
    {
      "cell_type": "code",
      "source": [],
      "metadata": {
        "id": "ZcWG-A-0Fs2q"
      },
      "execution_count": null,
      "outputs": []
    }
  ]
}