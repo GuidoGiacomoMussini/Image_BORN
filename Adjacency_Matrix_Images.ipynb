{
  "nbformat": 4,
  "nbformat_minor": 0,
  "metadata": {
    "colab": {
      "provenance": [],
      "collapsed_sections": [
        "ZXpMtmE7Z1aK",
        "NSEoxWzON4Jw"
      ],
      "authorship_tag": "ABX9TyNjBmda+6YxLcpKka2A4Fwa",
      "include_colab_link": true
    },
    "kernelspec": {
      "name": "python3",
      "display_name": "Python 3"
    },
    "language_info": {
      "name": "python"
    },
    "widgets": {
      "application/vnd.jupyter.widget-state+json": {
        "aac47a0823bd410c85ba1e85e7d4ade2": {
          "model_module": "@jupyter-widgets/controls",
          "model_name": "HBoxModel",
          "model_module_version": "1.5.0",
          "state": {
            "_dom_classes": [],
            "_model_module": "@jupyter-widgets/controls",
            "_model_module_version": "1.5.0",
            "_model_name": "HBoxModel",
            "_view_count": null,
            "_view_module": "@jupyter-widgets/controls",
            "_view_module_version": "1.5.0",
            "_view_name": "HBoxView",
            "box_style": "",
            "children": [
              "IPY_MODEL_3fee1cf5a36342329c864f0f0fa2cfda",
              "IPY_MODEL_26e6b71572d34de6b945943831dc42af",
              "IPY_MODEL_862366a7a49a4bac8d41a4ea48a71ac0"
            ],
            "layout": "IPY_MODEL_dc44cf2af9a9425593231fcac811db64"
          }
        },
        "3fee1cf5a36342329c864f0f0fa2cfda": {
          "model_module": "@jupyter-widgets/controls",
          "model_name": "HTMLModel",
          "model_module_version": "1.5.0",
          "state": {
            "_dom_classes": [],
            "_model_module": "@jupyter-widgets/controls",
            "_model_module_version": "1.5.0",
            "_model_name": "HTMLModel",
            "_view_count": null,
            "_view_module": "@jupyter-widgets/controls",
            "_view_module_version": "1.5.0",
            "_view_name": "HTMLView",
            "description": "",
            "description_tooltip": null,
            "layout": "IPY_MODEL_2d5918a8860342ac8e9301b79c8d6075",
            "placeholder": "​",
            "style": "IPY_MODEL_ed81af303fd54151a424b214a4147237",
            "value": "100%"
          }
        },
        "26e6b71572d34de6b945943831dc42af": {
          "model_module": "@jupyter-widgets/controls",
          "model_name": "FloatProgressModel",
          "model_module_version": "1.5.0",
          "state": {
            "_dom_classes": [],
            "_model_module": "@jupyter-widgets/controls",
            "_model_module_version": "1.5.0",
            "_model_name": "FloatProgressModel",
            "_view_count": null,
            "_view_module": "@jupyter-widgets/controls",
            "_view_module_version": "1.5.0",
            "_view_name": "ProgressView",
            "bar_style": "success",
            "description": "",
            "description_tooltip": null,
            "layout": "IPY_MODEL_cfa03f011c3e424cbf75079d2fdab677",
            "max": 9,
            "min": 0,
            "orientation": "horizontal",
            "style": "IPY_MODEL_61a7c20c3841487d8f364ffb80d48477",
            "value": 9
          }
        },
        "862366a7a49a4bac8d41a4ea48a71ac0": {
          "model_module": "@jupyter-widgets/controls",
          "model_name": "HTMLModel",
          "model_module_version": "1.5.0",
          "state": {
            "_dom_classes": [],
            "_model_module": "@jupyter-widgets/controls",
            "_model_module_version": "1.5.0",
            "_model_name": "HTMLModel",
            "_view_count": null,
            "_view_module": "@jupyter-widgets/controls",
            "_view_module_version": "1.5.0",
            "_view_name": "HTMLView",
            "description": "",
            "description_tooltip": null,
            "layout": "IPY_MODEL_9463ef360288492e8674c67c5e1fdd77",
            "placeholder": "​",
            "style": "IPY_MODEL_12ddab748380423e81de978a69023663",
            "value": " 9/9 [00:59&lt;00:00,  5.10s/it]"
          }
        },
        "dc44cf2af9a9425593231fcac811db64": {
          "model_module": "@jupyter-widgets/base",
          "model_name": "LayoutModel",
          "model_module_version": "1.2.0",
          "state": {
            "_model_module": "@jupyter-widgets/base",
            "_model_module_version": "1.2.0",
            "_model_name": "LayoutModel",
            "_view_count": null,
            "_view_module": "@jupyter-widgets/base",
            "_view_module_version": "1.2.0",
            "_view_name": "LayoutView",
            "align_content": null,
            "align_items": null,
            "align_self": null,
            "border": null,
            "bottom": null,
            "display": null,
            "flex": null,
            "flex_flow": null,
            "grid_area": null,
            "grid_auto_columns": null,
            "grid_auto_flow": null,
            "grid_auto_rows": null,
            "grid_column": null,
            "grid_gap": null,
            "grid_row": null,
            "grid_template_areas": null,
            "grid_template_columns": null,
            "grid_template_rows": null,
            "height": null,
            "justify_content": null,
            "justify_items": null,
            "left": null,
            "margin": null,
            "max_height": null,
            "max_width": null,
            "min_height": null,
            "min_width": null,
            "object_fit": null,
            "object_position": null,
            "order": null,
            "overflow": null,
            "overflow_x": null,
            "overflow_y": null,
            "padding": null,
            "right": null,
            "top": null,
            "visibility": null,
            "width": null
          }
        },
        "2d5918a8860342ac8e9301b79c8d6075": {
          "model_module": "@jupyter-widgets/base",
          "model_name": "LayoutModel",
          "model_module_version": "1.2.0",
          "state": {
            "_model_module": "@jupyter-widgets/base",
            "_model_module_version": "1.2.0",
            "_model_name": "LayoutModel",
            "_view_count": null,
            "_view_module": "@jupyter-widgets/base",
            "_view_module_version": "1.2.0",
            "_view_name": "LayoutView",
            "align_content": null,
            "align_items": null,
            "align_self": null,
            "border": null,
            "bottom": null,
            "display": null,
            "flex": null,
            "flex_flow": null,
            "grid_area": null,
            "grid_auto_columns": null,
            "grid_auto_flow": null,
            "grid_auto_rows": null,
            "grid_column": null,
            "grid_gap": null,
            "grid_row": null,
            "grid_template_areas": null,
            "grid_template_columns": null,
            "grid_template_rows": null,
            "height": null,
            "justify_content": null,
            "justify_items": null,
            "left": null,
            "margin": null,
            "max_height": null,
            "max_width": null,
            "min_height": null,
            "min_width": null,
            "object_fit": null,
            "object_position": null,
            "order": null,
            "overflow": null,
            "overflow_x": null,
            "overflow_y": null,
            "padding": null,
            "right": null,
            "top": null,
            "visibility": null,
            "width": null
          }
        },
        "ed81af303fd54151a424b214a4147237": {
          "model_module": "@jupyter-widgets/controls",
          "model_name": "DescriptionStyleModel",
          "model_module_version": "1.5.0",
          "state": {
            "_model_module": "@jupyter-widgets/controls",
            "_model_module_version": "1.5.0",
            "_model_name": "DescriptionStyleModel",
            "_view_count": null,
            "_view_module": "@jupyter-widgets/base",
            "_view_module_version": "1.2.0",
            "_view_name": "StyleView",
            "description_width": ""
          }
        },
        "cfa03f011c3e424cbf75079d2fdab677": {
          "model_module": "@jupyter-widgets/base",
          "model_name": "LayoutModel",
          "model_module_version": "1.2.0",
          "state": {
            "_model_module": "@jupyter-widgets/base",
            "_model_module_version": "1.2.0",
            "_model_name": "LayoutModel",
            "_view_count": null,
            "_view_module": "@jupyter-widgets/base",
            "_view_module_version": "1.2.0",
            "_view_name": "LayoutView",
            "align_content": null,
            "align_items": null,
            "align_self": null,
            "border": null,
            "bottom": null,
            "display": null,
            "flex": null,
            "flex_flow": null,
            "grid_area": null,
            "grid_auto_columns": null,
            "grid_auto_flow": null,
            "grid_auto_rows": null,
            "grid_column": null,
            "grid_gap": null,
            "grid_row": null,
            "grid_template_areas": null,
            "grid_template_columns": null,
            "grid_template_rows": null,
            "height": null,
            "justify_content": null,
            "justify_items": null,
            "left": null,
            "margin": null,
            "max_height": null,
            "max_width": null,
            "min_height": null,
            "min_width": null,
            "object_fit": null,
            "object_position": null,
            "order": null,
            "overflow": null,
            "overflow_x": null,
            "overflow_y": null,
            "padding": null,
            "right": null,
            "top": null,
            "visibility": null,
            "width": null
          }
        },
        "61a7c20c3841487d8f364ffb80d48477": {
          "model_module": "@jupyter-widgets/controls",
          "model_name": "ProgressStyleModel",
          "model_module_version": "1.5.0",
          "state": {
            "_model_module": "@jupyter-widgets/controls",
            "_model_module_version": "1.5.0",
            "_model_name": "ProgressStyleModel",
            "_view_count": null,
            "_view_module": "@jupyter-widgets/base",
            "_view_module_version": "1.2.0",
            "_view_name": "StyleView",
            "bar_color": null,
            "description_width": ""
          }
        },
        "9463ef360288492e8674c67c5e1fdd77": {
          "model_module": "@jupyter-widgets/base",
          "model_name": "LayoutModel",
          "model_module_version": "1.2.0",
          "state": {
            "_model_module": "@jupyter-widgets/base",
            "_model_module_version": "1.2.0",
            "_model_name": "LayoutModel",
            "_view_count": null,
            "_view_module": "@jupyter-widgets/base",
            "_view_module_version": "1.2.0",
            "_view_name": "LayoutView",
            "align_content": null,
            "align_items": null,
            "align_self": null,
            "border": null,
            "bottom": null,
            "display": null,
            "flex": null,
            "flex_flow": null,
            "grid_area": null,
            "grid_auto_columns": null,
            "grid_auto_flow": null,
            "grid_auto_rows": null,
            "grid_column": null,
            "grid_gap": null,
            "grid_row": null,
            "grid_template_areas": null,
            "grid_template_columns": null,
            "grid_template_rows": null,
            "height": null,
            "justify_content": null,
            "justify_items": null,
            "left": null,
            "margin": null,
            "max_height": null,
            "max_width": null,
            "min_height": null,
            "min_width": null,
            "object_fit": null,
            "object_position": null,
            "order": null,
            "overflow": null,
            "overflow_x": null,
            "overflow_y": null,
            "padding": null,
            "right": null,
            "top": null,
            "visibility": null,
            "width": null
          }
        },
        "12ddab748380423e81de978a69023663": {
          "model_module": "@jupyter-widgets/controls",
          "model_name": "DescriptionStyleModel",
          "model_module_version": "1.5.0",
          "state": {
            "_model_module": "@jupyter-widgets/controls",
            "_model_module_version": "1.5.0",
            "_model_name": "DescriptionStyleModel",
            "_view_count": null,
            "_view_module": "@jupyter-widgets/base",
            "_view_module_version": "1.2.0",
            "_view_name": "StyleView",
            "description_width": ""
          }
        }
      }
    }
  },
  "cells": [
    {
      "cell_type": "markdown",
      "metadata": {
        "id": "view-in-github",
        "colab_type": "text"
      },
      "source": [
        "<a href=\"https://colab.research.google.com/github/GuidoGiacomoMussini/Image_BORN/blob/main/Adjacency_Matrix_Images.ipynb\" target=\"_parent\"><img src=\"https://colab.research.google.com/assets/colab-badge.svg\" alt=\"Open In Colab\"/></a>"
      ]
    },
    {
      "cell_type": "code",
      "source": [
        "!pip install opencv-python"
      ],
      "metadata": {
        "id": "zEK_5yyXiLhZ"
      },
      "execution_count": null,
      "outputs": []
    },
    {
      "cell_type": "code",
      "execution_count": null,
      "metadata": {
        "id": "a0XerpLkY9rM"
      },
      "outputs": [],
      "source": [
        "import numpy as np\n",
        "import pandas as pd\n",
        "from tqdm.notebook import tqdm as progress_bar\n",
        "import matplotlib.pyplot as plt\n",
        "from google.colab import drive\n",
        "from collections import Counter\n",
        "import cv2\n",
        "from sklearn.model_selection import train_test_split\n",
        "from sklearn.metrics import accuracy_score, confusion_matrix\n",
        "import seaborn as sns\n",
        "drive.mount('/content/drive')"
      ]
    },
    {
      "cell_type": "markdown",
      "source": [
        "#born"
      ],
      "metadata": {
        "id": "ZXpMtmE7Z1aK"
      }
    },
    {
      "cell_type": "code",
      "source": [
        "import scipy.sparse\n",
        "import numpy\n",
        "from sklearn.base import BaseEstimator, ClassifierMixin\n",
        "from sklearn.utils.validation import _check_sample_weight\n",
        "from sklearn.utils.multiclass import unique_labels\n",
        "from sklearn.exceptions import NotFittedError"
      ],
      "metadata": {
        "id": "FwqcH4yKZ3L1"
      },
      "execution_count": null,
      "outputs": []
    },
    {
      "cell_type": "code",
      "execution_count": null,
      "metadata": {
        "id": "nEiBAzkG-kmq"
      },
      "outputs": [],
      "source": [
        "class BornClassifier(ClassifierMixin, BaseEstimator):\n",
        "    \"\"\"Scikit-learn implementation of Born's Classifier\n",
        "\n",
        "    This class is compatible with the [scikit-learn](https://scikit-learn.org) ecosystem.\n",
        "    It supports both dense and sparse input and GPU-accelerated computing via [CuPy](https://cupy.dev).\n",
        "    This classifier is suitable for classification with non-negative feature vectors.\n",
        "    The data `X` are treated as unnormalized probability distributions.\n",
        "\n",
        "    Parameters\n",
        "    ----------\n",
        "    a : float\n",
        "        Amplitude. Must be strictly positive.\n",
        "    b : float\n",
        "        Balance. Must be non-negative.\n",
        "    h : float\n",
        "        Entropy. Must be non-negative.\n",
        "\n",
        "    Attributes\n",
        "    ----------\n",
        "    gpu_ : bool\n",
        "        Whether the model was fitted on GPU.\n",
        "    corpus_ : array-like of shape (n_features_in_, n_classes)\n",
        "        Fitted corpus.\n",
        "    classes_ : ndarray of shape (n_classes,)\n",
        "        Unique classes labels.\n",
        "    n_features_in_ : int\n",
        "        Number of features seen during `fit`.\n",
        "\n",
        "    \"\"\"\n",
        "\n",
        "    def __init__(self, a=0.5, b=1., h=1.):\n",
        "        self.a = a\n",
        "        self.b = b\n",
        "        self.h = h\n",
        "\n",
        "    def fit(self, X, y, sample_weight=None):\n",
        "        \"\"\"Fit the classifier according to the training data X, y.\n",
        "\n",
        "        Parameters\n",
        "        ----------\n",
        "        X : array-like of shape (n_samples, n_features)\n",
        "            Training data, where `n_samples` is the number of samples\n",
        "            and `n_features` is the number of features.\n",
        "        y : array-like of shape (n_samples,) or (n_samples, n_classes)\n",
        "            Target values. If 2d array, this is the probability\n",
        "            distribution over the `n_classes` for each of the `n_samples`.\n",
        "        sample_weight : array-like of shape (n_samples,)\n",
        "            Array of weights that are assigned to individual samples.\n",
        "            If not provided, then each sample is given unit weight.\n",
        "\n",
        "        Returns\n",
        "        -------\n",
        "        self : object\n",
        "            Returns the instance itself.\n",
        "\n",
        "        \"\"\"\n",
        "        attrs = [\n",
        "            \"gpu_\",\n",
        "            \"corpus_\",\n",
        "            \"classes_\",\n",
        "            \"n_features_in_\"\n",
        "        ]\n",
        "\n",
        "        for attr in attrs:\n",
        "            if hasattr(self, attr):\n",
        "                delattr(self, attr)\n",
        "\n",
        "        return self.partial_fit(X, y, classes=y, sample_weight=sample_weight)\n",
        "\n",
        "    def partial_fit(self, X, y, classes=None, sample_weight=None):\n",
        "        \"\"\"Incremental fit on a batch of samples.\n",
        "\n",
        "        This method is expected to be called several times consecutively on different chunks of a dataset so\n",
        "        as to implement out-of-core or online learning.\n",
        "\n",
        "        Parameters\n",
        "        ----------\n",
        "        X : array-like of shape (n_samples, n_features)\n",
        "            Training data, where `n_samples` is the number of samples\n",
        "            and `n_features` is the number of features.\n",
        "        y : array-like of shape (n_samples,) or (n_samples, n_classes)\n",
        "            Target values. If 2d array, this is the probability\n",
        "            distribution over the `n_classes` for each of the `n_samples`.\n",
        "        classes : array-like of shape (n_classes,)\n",
        "            List of all the classes that can possibly appear in the `y` vector.\n",
        "            Must be provided at the first call to `partial_fit`, can be omitted in subsequent calls.\n",
        "        sample_weight : array-like of shape (n_samples,)\n",
        "            Array of weights that are assigned to individual samples.\n",
        "            If not provided, then each sample is given unit weight.\n",
        "\n",
        "        Returns\n",
        "        -------\n",
        "        self : object\n",
        "            Returns the instance itself.\n",
        "\n",
        "        \"\"\"\n",
        "        X, y = self._sanitize(X, y)\n",
        "\n",
        "        first_call = self._check_partial_fit_first_call(classes)\n",
        "        if first_call:\n",
        "            self.corpus_ = 0\n",
        "            self.n_features_in_ = X.shape[1]\n",
        "\n",
        "        if not self._check_encoded(y):\n",
        "            y = self._one_hot_encoding(y)\n",
        "\n",
        "        if sample_weight is not None:\n",
        "            sample_weight = self._check_sample_weight(sample_weight, X)\n",
        "            y = self._multiply(y, sample_weight.reshape(-1, 1))\n",
        "\n",
        "        self.corpus_ += X.T @ self._multiply(y, self._power(self._sum(X, axis=1), -1))\n",
        "\n",
        "        return self\n",
        "\n",
        "    def predict(self, X):\n",
        "        \"\"\"Perform classification on the test data X.\n",
        "\n",
        "        Parameters\n",
        "        ----------\n",
        "        X : array-like of shape (n_samples, n_features)\n",
        "            Test data, where `n_samples` is the number of samples\n",
        "            and `n_features` is the number of features.\n",
        "\n",
        "        Returns\n",
        "        -------\n",
        "        y : ndarray of shape (n_samples,)\n",
        "            Predicted target classes for `X`.\n",
        "\n",
        "        \"\"\"\n",
        "        proba = self.predict_proba(X)\n",
        "        idx = self._dense().argmax(proba, axis=1)\n",
        "\n",
        "        return self.classes_[idx]\n",
        "\n",
        "    def predict_proba(self, X):\n",
        "        \"\"\"Return probability estimates for the test data X.\n",
        "\n",
        "        Parameters\n",
        "        ----------\n",
        "        X : array-like of shape (n_samples, n_features)\n",
        "            Test data, where `n_samples` is the number of samples\n",
        "            and `n_features` is the number of features.\n",
        "\n",
        "        Returns\n",
        "        -------\n",
        "        y : ndarray of shape (n_samples, n_classes)\n",
        "            Returns the probability of the samples for each class in the model.\n",
        "            The columns correspond to the classes in sorted order, as they appear in the attribute `classes_`.\n",
        "\n",
        "        \"\"\"\n",
        "        self._check_fitted()\n",
        "\n",
        "        X = self._sanitize(X)\n",
        "        u = self._power(self._power(X, self.a) @ self._weights(), 1. / self.a)\n",
        "        y = self._normalize(u, axis=1)\n",
        "\n",
        "        if self._sparse().issparse(y):\n",
        "            y = y.todense()\n",
        "\n",
        "        return self._dense().asarray(y)\n",
        "\n",
        "    def explain(self, X=None, sample_weight=None):\n",
        "        r\"\"\"Global and local explanation\n",
        "\n",
        "        For each test vector $`x`$, the $`a`$-th power of the unnormalized probability for the $`k`$-th class is\n",
        "        given by the matrix product:\n",
        "\n",
        "        ```math\n",
        "        u_k^a = \\sum_j W_{jk}x_j^a\n",
        "        ```\n",
        "        where $`W`$ is a matrix of non-negative weights that generally depends on the model's\n",
        "        hyper-parameters ($`a`$, $`b`$, $`h`$). The classification probabilities are obtained by\n",
        "        normalizing $`u`$ such that it sums up to $`1`$.\n",
        "\n",
        "        This method returns global or local feature importance weights, depending on `X`:\n",
        "\n",
        "        - When `X` is not provided, this method returns the global weights $`W`$.\n",
        "\n",
        "        - When `X` is a single sample,\n",
        "        this method returns a matrix of entries $`(j,k)`$ where each entry is given by $`W_{jk}x_j^a`$.\n",
        "\n",
        "        - When `X` contains multiple samples,\n",
        "        then the values above are computed for each sample and this method returns their weighted sum.\n",
        "        By default, each sample is given unit weight.\n",
        "\n",
        "        Parameters\n",
        "        ----------\n",
        "        X : array-like of shape (n_samples, n_features)\n",
        "            Test data, where `n_samples` is the number of samples\n",
        "            and `n_features` is the number of features. If not provided,\n",
        "            then global weights are returned.\n",
        "        sample_weight : array-like of shape (n_samples,)\n",
        "            Array of weights that are assigned to individual samples.\n",
        "            If not provided, then each sample is given unit weight.\n",
        "\n",
        "        Returns\n",
        "        -------\n",
        "        E : array-like of shape (n_features, n_classes)\n",
        "            Returns the feature importance for each class in the model.\n",
        "            The columns correspond to the classes in sorted order, as they appear in the attribute `classes_`.\n",
        "\n",
        "        \"\"\"\n",
        "        self._check_fitted()\n",
        "\n",
        "        if X is None:\n",
        "            return self._weights()\n",
        "\n",
        "        X = self._sanitize(X)\n",
        "        X = self._normalize(X, axis=1)\n",
        "        X = self._power(X, self.a)\n",
        "\n",
        "        if sample_weight is not None:\n",
        "            sample_weight = self._check_sample_weight(sample_weight, X)\n",
        "            X = self._multiply(X, sample_weight.reshape(-1, 1))\n",
        "\n",
        "        return self._multiply(self._weights(), self._sum(X, axis=0).T)\n",
        "\n",
        "    def _dense(self):\n",
        "        return  numpy\n",
        "\n",
        "    def _sparse(self):\n",
        "        return scipy.sparse\n",
        "\n",
        "    def _weights(self):\n",
        "        P_jk = self.corpus_\n",
        "        if self.b != 0:\n",
        "            P_jk = self._multiply(P_jk, self._power(self._sum(self.corpus_, axis=0), -self.b))\n",
        "        if self.b != 1:\n",
        "            P_jk = self._multiply(P_jk, self._power(self._sum(self.corpus_, axis=1), self.b-1))\n",
        "\n",
        "        W_jk = self._power(P_jk, self.a)\n",
        "        if self.h != 0 and len(self.classes_) > 1:\n",
        "            P_jk = self._normalize(P_jk, axis=1)\n",
        "            H_j = 1 + self._sum(self._multiply(P_jk, self._log(P_jk)), axis=1) / self._dense().log(P_jk.shape[1])\n",
        "            W_jk = self._multiply(W_jk, self._power(H_j, self.h))\n",
        "\n",
        "        return W_jk\n",
        "\n",
        "    def _sum(self, x, axis):\n",
        "        if self._sparse().issparse(x):\n",
        "            return x.sum(axis=axis)\n",
        "\n",
        "        return self._dense().asarray(x).sum(axis=axis, keepdims=True)\n",
        "\n",
        "    def _multiply(self, x, y):\n",
        "        if self._sparse().issparse(x):\n",
        "            return x.multiply(y).tocsr()\n",
        "\n",
        "        if self._sparse().issparse(y):\n",
        "            return y.multiply(x).tocsr()\n",
        "\n",
        "        return self._dense().multiply(x, y)\n",
        "\n",
        "    def _power(self, x, p):\n",
        "        x = x.copy()\n",
        "\n",
        "        if self._sparse().issparse(x):\n",
        "            x.data = self._dense().power(x.data, p)\n",
        "\n",
        "        else:\n",
        "            nz = self._dense().nonzero(x)\n",
        "            x[nz] = self._dense().power(x[nz], p)\n",
        "\n",
        "        return x\n",
        "\n",
        "    def _log(self, x):\n",
        "        x = x.copy()\n",
        "\n",
        "        if self._sparse().issparse(x):\n",
        "            x.data = self._dense().log(x.data)\n",
        "\n",
        "        else:\n",
        "            nz = self._dense().nonzero(x)\n",
        "            x[nz] = self._dense().log(x[nz])\n",
        "\n",
        "        return x\n",
        "\n",
        "    def _normalize(self, x, axis, p=1.):\n",
        "        s = self._sum(x, axis)\n",
        "        n = self._power(s, -p)\n",
        "\n",
        "        return self._multiply(x, n)\n",
        "\n",
        "    def _sanitize(self, X, y=\"no_validation\"):\n",
        "        only_X = isinstance(y, str) and y == \"no_validation\"\n",
        "\n",
        "        gpu = self._check_gpu(X=X, y=y if not only_X else None)\n",
        "        if getattr(self, \"gpu_\", None) is None:\n",
        "            self.gpu_ = gpu\n",
        "\n",
        "        elif self.gpu_ != gpu:\n",
        "            raise ValueError(\n",
        "                \"X is not on the same device (CPU/GPU) as on last call \"\n",
        "                \"to partial_fit, was: %r\" % (self.gpu_, ))\n",
        "\n",
        "        if not self.gpu_:\n",
        "            kwargs = {\n",
        "                \"accept_sparse\": \"csr\",\n",
        "                \"reset\": False,\n",
        "                \"dtype\": (numpy.float32, numpy.float64)\n",
        "            }\n",
        "\n",
        "            if only_X:\n",
        "                X = super()._validate_data(X=X, **kwargs)\n",
        "\n",
        "            else:\n",
        "                X, y = super()._validate_data(X=X, y=y, multi_output=self._check_encoded(y), **kwargs)\n",
        "\n",
        "            if not self._check_non_negative(X):\n",
        "                raise ValueError(\"X must contain non-negative values\")\n",
        "\n",
        "        return X if only_X else (X, y)\n",
        "\n",
        "    def _unique_labels(self, y):\n",
        "        if self._check_encoded(y):\n",
        "            return self._dense().arange(0, y.shape[1])\n",
        "\n",
        "        elif self.gpu_:\n",
        "            return self._dense().unique(y)\n",
        "\n",
        "        else:\n",
        "            return unique_labels(y)\n",
        "\n",
        "    def _one_hot_encoding(self, y):\n",
        "        classes = self.classes_\n",
        "        n, m = len(y), len(classes)\n",
        "\n",
        "        if self.gpu_:\n",
        "            y = y.get()\n",
        "            classes = classes.get()\n",
        "\n",
        "        unseen = set(y) - set(classes)\n",
        "        if unseen:\n",
        "            raise ValueError(\n",
        "                \"`classes=%r` were not allowed on first call \"\n",
        "                \"to partial_fit\" % (unseen, ))\n",
        "\n",
        "        idx = {c: i for i, c in enumerate(classes)}\n",
        "        col = self._dense().array([idx[c] for c in y])\n",
        "        row = self._dense().array(range(0, n))\n",
        "        val = self._dense().ones(n)\n",
        "\n",
        "        return self._sparse().csr_matrix((val, (row, col)), shape=(n, m))\n",
        "\n",
        "    def _check_encoded(self, y):\n",
        "        return self._sparse().issparse(y) or (getattr(y, \"ndim\", 0) == 2 and y.shape[1] > 1)\n",
        "\n",
        "    def _check_non_negative(self, X):\n",
        "        if self._sparse().issparse(X):\n",
        "            if self._dense().any(X.data < 0):\n",
        "                return False\n",
        "\n",
        "        elif self._dense().any(X < 0):\n",
        "            return False\n",
        "\n",
        "        return True\n",
        "\n",
        "    def _check_sample_weight(self, sample_weight, X):\n",
        "        if self.gpu_:\n",
        "            return sample_weight\n",
        "\n",
        "        return _check_sample_weight(sample_weight=sample_weight, X=X)\n",
        "\n",
        "    def _check_partial_fit_first_call(self, classes):\n",
        "        if getattr(self, \"classes_\", None) is None and classes is None:\n",
        "            raise ValueError(\"classes must be passed on the first call to partial_fit\")\n",
        "\n",
        "        elif classes is not None:\n",
        "            classes = self._unique_labels(classes)\n",
        "\n",
        "            if getattr(self, \"classes_\", None) is not None:\n",
        "                if not self._dense().array_equal(self.classes_, classes):\n",
        "                    raise ValueError(\n",
        "                        \"`classes=%r` is not the same as on last call \"\n",
        "                        \"to partial_fit, was: %r\" % (classes, self.classes_))\n",
        "\n",
        "            else:\n",
        "                self.classes_ = classes\n",
        "                return True\n",
        "\n",
        "        return False\n",
        "\n",
        "    def _check_gpu(self, X, y=None):\n",
        "        return False\n",
        "\n",
        "    def _check_fitted(self):\n",
        "        if getattr(self, \"corpus_\", None) is None:\n",
        "            raise NotFittedError(\n",
        "                f\"This {self.__class__.__name__} instance is not fitted yet. \"\n",
        "                \"Call 'fit' with appropriate arguments before using this estimator\")\n",
        "\n",
        "    def _more_tags(self):\n",
        "        return {\n",
        "            'requires_y': True,\n",
        "            'requires_positive_X': True,\n",
        "            'X_types': ['2darray', 'sparse'],\n",
        "            '_xfail_checks': {\n",
        "                'check_classifiers_classes':\n",
        "                    'This is a pathological data set for BornClassifier. '\n",
        "                    'For some specific cases, it predicts less classes than expected',\n",
        "                'check_classifiers_train':\n",
        "                    'Test fails because of negative values in X'\n",
        "            }\n",
        "        }"
      ]
    },
    {
      "cell_type": "markdown",
      "source": [
        "#functions"
      ],
      "metadata": {
        "id": "NSEoxWzON4Jw"
      }
    },
    {
      "cell_type": "code",
      "source": [
        "def one_hot_encode(number, column):\n",
        "    # Creiamo una lista di 7 zeri (da 0 a 6)\n",
        "    encoding = [0] * len(np.unique(column))\n",
        "    # Impostiamo a 1 la posizione corrispondente al numero\n",
        "    encoding[number] = 1\n",
        "    return encoding"
      ],
      "metadata": {
        "id": "zd65i-fuaZ0c"
      },
      "execution_count": null,
      "outputs": []
    },
    {
      "cell_type": "code",
      "source": [
        "def apply_threshold(img, threshold, upper = True):\n",
        "    thresholded_array = np.copy(img)\n",
        "    thresholded_array[thresholded_array < threshold] = 0\n",
        "    if upper:\n",
        "      thresholded_array[thresholded_array >= threshold] = 1\n",
        "    return thresholded_array"
      ],
      "metadata": {
        "id": "ds1_L173bErF"
      },
      "execution_count": null,
      "outputs": []
    },
    {
      "cell_type": "markdown",
      "source": [
        "# data"
      ],
      "metadata": {
        "id": "NcwkjEmVaIxd"
      }
    },
    {
      "cell_type": "code",
      "source": [
        "path = '/content/drive/MyDrive/Colab Notebooks/Tesi/MEDICAL IMAGING/'\n",
        "file_ = 'Skin_Cancer.h5'\n",
        "#file_ = 'Skin_Cancer_binary.h5'\n",
        "df = pd.read_hdf(path+file_, 'df')\n",
        "df.head()\n",
        "\n",
        "df['label_bin'] = [ one_hot_encode(lab, df.label) for lab in df['label']]"
      ],
      "metadata": {
        "id": "zxrVDwieaSaH"
      },
      "execution_count": null,
      "outputs": []
    },
    {
      "cell_type": "code",
      "source": [
        "Counter(df.label)"
      ],
      "metadata": {
        "colab": {
          "base_uri": "https://localhost:8080/"
        },
        "id": "jpxrUuq1R65H",
        "outputId": "4a76405a-b446-4d5e-dfb6-be4aed96d7d2"
      },
      "execution_count": null,
      "outputs": [
        {
          "output_type": "execute_result",
          "data": {
            "text/plain": [
              "Counter({2: 1099, 5: 6705, 3: 115, 4: 1113, 6: 142, 1: 514, 0: 327})"
            ]
          },
          "metadata": {},
          "execution_count": 8
        }
      ]
    },
    {
      "cell_type": "code",
      "source": [
        "# #grayscale + norm\n",
        "# df['grayscale'] = [cv2.cvtColor(img, cv2.COLOR_BGR2GRAY) / 255.0 for img in df.image]\n",
        "# df['adjM'] = [apply_threshold(img, 0.5).flatten() for img in progress_bar(df.grayscale)]\n",
        "# from sklearn.utils import shuffle\n",
        "# df_shuffled = pd.DataFrame()\n",
        "# df_shuffled = shuffle(df, random_state=42).reset_index(drop=True)\n",
        "# split_index = int(len(df_shuffled) * 0.7)\n",
        "# df_train = df_shuffled[:split_index].reset_index(drop=True)\n",
        "# df_test = df_shuffled[split_index:].reset_index(drop=True)\n",
        "\n",
        "# classifier = BornClassifier()\n",
        "# classifier.fit(np.array(list(df_train.adjM)), np.array(list(df_train.label_bin)))\n",
        "\n",
        "# # Make predictions on the test set\n",
        "# pred = [int(classifier.predict(test.reshape(1, -1))) for test in df_test.adjM]\n",
        "\n",
        "# np.mean([1 if np.argmax(df_test.label_bin[i]) == pred[i] else 0 for i in range(len(pred))])"
      ],
      "metadata": {
        "id": "kBCN8RCIaBua"
      },
      "execution_count": null,
      "outputs": []
    },
    {
      "cell_type": "code",
      "source": [
        "accuracies, cf = [], {}\n",
        "hp = [0.1, 0.2, 0.3, 0.4, 0.5, 0.6, 0.7, 0.8, 0.9] #try with different cutoffs\n",
        "\n",
        "#train-test split\n",
        "df_train, df_test = train_test_split(df, test_size=0.3, random_state=19, stratify=df['label'])\n",
        "df_train = df_train.reset_index(drop=True)\n",
        "df_test = df_test.reset_index(drop=True)\n",
        "\n",
        "#results for each hp value\n",
        "for cutoff in progress_bar(hp):\n",
        "  #grayscale and cutoff\n",
        "  df_train['grayscale'] = [cv2.cvtColor(img, cv2.COLOR_BGR2GRAY) / 255.0 for img in df_train.image]\n",
        "  df_train['adjM'] = [apply_threshold(img, cutoff).flatten() for img in df_train.grayscale]\n",
        "\n",
        "  df_test['grayscale'] = [cv2.cvtColor(img, cv2.COLOR_BGR2GRAY) / 255.0 for img in df_test.image]\n",
        "  df_test['adjM'] = [apply_threshold(img, cutoff).flatten() for img in df_test.grayscale]\n",
        "\n",
        "  #Born\n",
        "  classifier = BornClassifier()\n",
        "  classifier.fit(np.array(list(df_train.adjM)), np.array(list(df_train.label_bin)))\n",
        "\n",
        "  # Make predictions on the test set\n",
        "  pred = [int(classifier.predict(test.reshape(1, -1))) for test in df_test.adjM]\n",
        "\n",
        "  accuracies.append(accuracy_score(df_test.label, pred))\n",
        "  cf[cutoff] = confusion_matrix(df_test.label, pred)"
      ],
      "metadata": {
        "colab": {
          "base_uri": "https://localhost:8080/",
          "height": 49,
          "referenced_widgets": [
            "aac47a0823bd410c85ba1e85e7d4ade2",
            "3fee1cf5a36342329c864f0f0fa2cfda",
            "26e6b71572d34de6b945943831dc42af",
            "862366a7a49a4bac8d41a4ea48a71ac0",
            "dc44cf2af9a9425593231fcac811db64",
            "2d5918a8860342ac8e9301b79c8d6075",
            "ed81af303fd54151a424b214a4147237",
            "cfa03f011c3e424cbf75079d2fdab677",
            "61a7c20c3841487d8f364ffb80d48477",
            "9463ef360288492e8674c67c5e1fdd77",
            "12ddab748380423e81de978a69023663"
          ]
        },
        "id": "jSnR-A7bcSJ6",
        "outputId": "a47f80ab-0609-414d-bb4c-d1f2808ab100"
      },
      "execution_count": null,
      "outputs": [
        {
          "output_type": "display_data",
          "data": {
            "text/plain": [
              "  0%|          | 0/9 [00:00<?, ?it/s]"
            ],
            "application/vnd.jupyter.widget-view+json": {
              "version_major": 2,
              "version_minor": 0,
              "model_id": "aac47a0823bd410c85ba1e85e7d4ade2"
            }
          },
          "metadata": {}
        }
      ]
    },
    {
      "cell_type": "code",
      "source": [
        "results = pd.DataFrame({'hp': hp, 'accuracy': accuracies}) #.sort_values(by=['accuracy'], ascending = False)\n",
        "results"
      ],
      "metadata": {
        "id": "InTm_PXwcTAd"
      },
      "execution_count": null,
      "outputs": []
    },
    {
      "cell_type": "code",
      "source": [
        "#best confusion matrix\n",
        "cf[np.argmax(results.accuracy)/10]"
      ],
      "metadata": {
        "id": "cOibH3pYdnHh"
      },
      "execution_count": null,
      "outputs": []
    },
    {
      "cell_type": "markdown",
      "source": [
        "#Comparazione"
      ],
      "metadata": {
        "id": "QaxEecOU5RtS"
      }
    },
    {
      "cell_type": "code",
      "source": [
        "import sklearn\n",
        "from sklearn.ensemble import RandomForestClassifier\n",
        "from sklearn.linear_model import LogisticRegression\n",
        "from sklearn.naive_bayes import MultinomialNB\n",
        "from sklearn.neighbors import KNeighborsClassifier\n",
        "from sklearn.svm import SVC\n",
        "from sklearn.tree import DecisionTreeClassifier\n",
        "\n",
        "classifiers = {\n",
        "    \"RandomForest\": RandomForestClassifier(),\n",
        "    \"LogisticRegression\": LogisticRegression(),\n",
        "    \"MultinomialNB\": MultinomialNB(),\n",
        "    \"KNeighbors\": KNeighborsClassifier(),\n",
        "    \"SVC\": SVC(),\n",
        "    \"DecisionTree\": DecisionTreeClassifier(),\n",
        "    \"BORN\": BornClassifier()\n",
        "}"
      ],
      "metadata": {
        "id": "r14D7iLXVZAh"
      },
      "execution_count": null,
      "outputs": []
    },
    {
      "cell_type": "code",
      "source": [
        "#import the 3 datasets\n",
        "path = '/content/drive/MyDrive/Colab Notebooks/Tesi/MEDICAL IMAGING/'\n",
        "Bc = 'Brain_cancer.h5'\n",
        "isic_m = 'Skin_Cancer_64.h5'\n",
        "isic_b = 'Skin_Cancer_binary_64.h5'\n",
        "\n",
        "df_bc = pd.read_hdf(path+Bc, 'df')\n",
        "df_bc.name = 'brain_cancer'\n",
        "df_isic_m = pd.read_hdf(path+isic_m, 'df')\n",
        "df_isic_m.name = 'isic_multiclass'\n",
        "df_isic_b = pd.read_hdf(path+isic_b, 'df')\n",
        "df_isic_b.name = 'isic_binary'\n",
        "\n",
        "df_list = [df_isic_m, df_isic_b, df_bc]"
      ],
      "metadata": {
        "id": "nxBeuU4s5YRm"
      },
      "execution_count": null,
      "outputs": []
    },
    {
      "cell_type": "code",
      "source": [
        "#select a cutoff\n",
        "cutoff = 0.5\n",
        "dict_isic_b, dict_isic_m, dict_isic_bc = {}, {}, {}"
      ],
      "metadata": {
        "id": "E-0criPv6gHb"
      },
      "execution_count": null,
      "outputs": []
    },
    {
      "cell_type": "markdown",
      "source": [
        "isic binary"
      ],
      "metadata": {
        "id": "4P4clB_C52s7"
      }
    },
    {
      "cell_type": "code",
      "source": [
        "df = df_isic_b\n",
        "\n",
        "df['grayscale'] = [cv2.cvtColor(img, cv2.COLOR_BGR2GRAY) / 255.0 for img in df.image]\n",
        "df['adjM'] = [apply_threshold(img, cutoff).flatten() for img in df.grayscale]\n",
        "\n",
        "df_train, df_test = train_test_split(df, test_size=0.3, random_state=19, stratify=df['label'])\n",
        "df_train = df_train.reset_index(drop=True)\n",
        "df_test = df_test.reset_index(drop=True)\n",
        "\n",
        "#ISIC_BINARY\n",
        "for name, model in progress_bar(classifiers.items()):\n",
        "\n",
        "  model.fit(np.array(list(df_train.adjM)), np.array(list(df_train.label)))\n",
        "  preds = model.predict(np.array(list(df_test.adjM)))\n",
        "  accuracy = sklearn.metrics.accuracy_score(df_test.label, preds)\n",
        "  dict_isic_b[name] = accuracy"
      ],
      "metadata": {
        "id": "RHnVCWWl6V4_"
      },
      "execution_count": null,
      "outputs": []
    },
    {
      "cell_type": "markdown",
      "source": [
        "isic multiclass"
      ],
      "metadata": {
        "id": "OPTMzf0j7NKS"
      }
    },
    {
      "cell_type": "code",
      "source": [
        "df = df_isic_m\n",
        "\n",
        "df['grayscale'] = [cv2.cvtColor(img, cv2.COLOR_BGR2GRAY) / 255.0 for img in df.image]\n",
        "df['adjM'] = [apply_threshold(img, cutoff).flatten() for img in df.grayscale]\n",
        "\n",
        "df_train, df_test = train_test_split(df, test_size=0.3, random_state=19, stratify=df['label'])\n",
        "df_train = df_train.reset_index(drop=True)\n",
        "df_test = df_test.reset_index(drop=True)\n",
        "\n",
        "#ISIC_MULTICLASS\n",
        "for name, model in progress_bar(classifiers.items()):\n",
        "\n",
        "  model.fit(np.array(list(df_train.adjM)), np.array(list(df_train.label)))\n",
        "  preds = model.predict(np.array(list(df_test.adjM)))\n",
        "  accuracy = sklearn.metrics.accuracy_score(df_test.label, preds)\n",
        "  dict_isic_m[name] = accuracy"
      ],
      "metadata": {
        "id": "NiZ7U3rP7OQJ"
      },
      "execution_count": null,
      "outputs": []
    },
    {
      "cell_type": "markdown",
      "source": [
        "brain cancer"
      ],
      "metadata": {
        "id": "K_2bFgs-7SNI"
      }
    },
    {
      "cell_type": "code",
      "source": [
        "df = df_bc\n",
        "\n",
        "df['adjM'] = [apply_threshold(img, cutoff).flatten() for img in df.image]\n",
        "\n",
        "df_train, df_test = train_test_split(df, test_size=0.3, random_state=19, stratify=df['label'])\n",
        "df_train = df_train.reset_index(drop=True)\n",
        "df_test = df_test.reset_index(drop=True)\n",
        "\n",
        "#BRAIN CANCER\n",
        "for name, model in progress_bar(classifiers.items()):\n",
        "\n",
        "  model.fit(np.array(list(df_train.adjM)), np.array(list(df_train.label)))\n",
        "  preds = model.predict(np.array(list(df_test.adjM)))\n",
        "  accuracy = sklearn.metrics.accuracy_score(df_test.label, preds)\n",
        "  dict_isic_bc[name] = accuracy"
      ],
      "metadata": {
        "id": "-jqOYu4D7THB"
      },
      "execution_count": null,
      "outputs": []
    },
    {
      "cell_type": "markdown",
      "source": [
        "Visualize the results"
      ],
      "metadata": {
        "id": "oEPUAm8wjKue"
      }
    },
    {
      "cell_type": "code",
      "source": [
        "\n",
        "df_isic_b = pd.DataFrame(list(dict_isic_b.items()), columns=['Classifier', 'Accuracy'])\n",
        "df_isic_b['Dataset'] = 'ISIC_B'\n",
        "\n",
        "df_isic_m = pd.DataFrame(list(dict_isic_m.items()), columns=['Classifier', 'Accuracy'])\n",
        "df_isic_m['Dataset'] = 'ISIC_M'\n",
        "\n",
        "df_bc = pd.DataFrame(list(dict_isic_bc.items()), columns=['Classifier', 'Accuracy'])\n",
        "df_bc['Dataset'] = 'BC'\n",
        "\n",
        "df_combined = pd.concat([df_isic_b, df_isic_m, df_bc], ignore_index=True)\n",
        "print(df_combined)"
      ],
      "metadata": {
        "colab": {
          "base_uri": "https://localhost:8080/"
        },
        "id": "GTOgcDcN7kxr",
        "outputId": "03d99eda-8478-4a74-afb3-c6f89ab1d27d"
      },
      "execution_count": null,
      "outputs": [
        {
          "output_type": "stream",
          "name": "stdout",
          "text": [
            "            Classifier  Accuracy Dataset\n",
            "0         RandomForest  0.809983  ISIC_B\n",
            "1   LogisticRegression  0.773378  ISIC_B\n",
            "2        MultinomialNB  0.637604  ISIC_B\n",
            "3           KNeighbors  0.801664  ISIC_B\n",
            "4                  SVC  0.804992  ISIC_B\n",
            "5         DecisionTree  0.706156  ISIC_B\n",
            "6                 BORN  0.602329  ISIC_B\n",
            "7         RandomForest  0.687521  ISIC_M\n",
            "8   LogisticRegression  0.625291  ISIC_M\n",
            "9        MultinomialNB  0.426955  ISIC_M\n",
            "10          KNeighbors  0.668552  ISIC_M\n",
            "11                 SVC  0.677205  ISIC_M\n",
            "12        DecisionTree  0.570383  ISIC_M\n",
            "13                BORN  0.178702  ISIC_M\n",
            "14        RandomForest  0.866327      BC\n",
            "15  LogisticRegression  0.794898      BC\n",
            "16       MultinomialNB  0.479592      BC\n",
            "17          KNeighbors  0.815306      BC\n",
            "18                 SVC  0.796939      BC\n",
            "19        DecisionTree  0.783673      BC\n",
            "20                BORN  0.503061      BC\n"
          ]
        }
      ]
    },
    {
      "cell_type": "code",
      "source": [
        "#PLOT\n",
        "plt.figure(figsize=(14, 8))\n",
        "ax = sns.barplot(x='Dataset', y='Accuracy', hue='Classifier', data=df_combined)\n",
        "plt.title('Comparazione accuracy, cutoff = 0.5')\n",
        "plt.xlabel('Dataset')\n",
        "plt.ylabel('Accuratezza')\n",
        "#annotations\n",
        "for p in ax.patches:\n",
        "    ax.annotate(format(p.get_height(), '.2f'),\n",
        "                (p.get_x() + p.get_width() / 2., p.get_height()),\n",
        "                ha = 'center', va = 'center',\n",
        "                xytext = (0, 9),\n",
        "                textcoords = 'offset points')\n",
        "\n",
        "#legend\n",
        "plt.legend(bbox_to_anchor=(1.05, 1), loc=2, borderaxespad=0.)\n",
        "\n",
        "plt.show()"
      ],
      "metadata": {
        "colab": {
          "base_uri": "https://localhost:8080/",
          "height": 718
        },
        "id": "P0OB8Ug-7let",
        "outputId": "d4c708db-fcd6-4c79-e92d-4347fa828723"
      },
      "execution_count": null,
      "outputs": [
        {
          "output_type": "display_data",
          "data": {
            "text/plain": [
              "<Figure size 1400x800 with 1 Axes>"
            ],
            "image/png": "[encoded data removed]"
          },
          "metadata": {}
        }
      ]
    }
  ]
}